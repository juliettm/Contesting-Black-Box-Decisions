{
 "cells": [
  {
   "cell_type": "code",
   "execution_count": 51,
   "metadata": {
    "collapsed": true,
    "ExecuteTime": {
     "end_time": "2024-04-22T09:27:44.341872Z",
     "start_time": "2024-04-22T09:27:44.305468Z"
    }
   },
   "outputs": [],
   "source": [
    "import pandas as pd\n",
    "\n",
    "# Read the training test and validation sets from data folder\n",
    "X_train = pd.read_csv('../data/tra_tst_val/X_train_normalised.csv')\n",
    "X_test = pd.read_csv('../data/tra_tst_val/X_test_normalised.csv')\n",
    "X_val = pd.read_csv('../data/tra_tst_val/X_val_normalised.csv')\n",
    "\n",
    "y_train = pd.read_csv('../data/tra_tst_val/y_train_normalised.csv')\n",
    "y_test = pd.read_csv('../data/tra_tst_val/y_test_normalised.csv')\n",
    "y_val = pd.read_csv('../data/tra_tst_val/y_val_normalised.csv')"
   ]
  },
  {
   "cell_type": "code",
   "execution_count": 25,
   "outputs": [
    {
     "data": {
      "text/plain": "0.7699999809265137"
     },
     "execution_count": 25,
     "metadata": {},
     "output_type": "execute_result"
    }
   ],
   "source": [
    "from tensorflow.keras.models import Sequential\n",
    "from tensorflow.keras.layers import Dense\n",
    "from tensorflow.keras.optimizers import Adam\n",
    "import numpy as np\n",
    "\n",
    "# Defining a simple neural network function to test different hyperparameters\n",
    "def build_model(input_dim, layers, activation, optimizer_lr):\n",
    "    model = Sequential()\n",
    "    model.add(Dense(layers[0], input_dim=input_dim, activation=activation))\n",
    "    for units in layers[1:]:\n",
    "        model.add(Dense(units, activation=activation))\n",
    "    model.add(Dense(1, activation='sigmoid')) # Binary classification\n",
    "    model.compile(optimizer=Adam(learning_rate=optimizer_lr), loss='binary_crossentropy', metrics=['accuracy'])\n",
    "    return model\n",
    "\n",
    "# Initial hyperparameters\n",
    "input_dim = X_train.shape[1] # Number of features\n",
    "layers = [64, 32] # Two layers with 64 and 32 neurons\n",
    "activation = 'relu'\n",
    "optimizer_lr = 0.001\n",
    "\n",
    "# Building the initial model\n",
    "model = build_model(input_dim, layers, activation, optimizer_lr)\n",
    "\n",
    "# Training the model\n",
    "history = model.fit(X_train, y_train, validation_data=(X_val, y_val), epochs=50, batch_size=10, verbose=0)\n",
    "\n",
    "# Evaluating the model on the validation set\n",
    "val_accuracy = np.max(history.history['val_accuracy'])\n",
    "\n",
    "val_accuracy\n",
    "\n"
   ],
   "metadata": {
    "collapsed": false,
    "ExecuteTime": {
     "end_time": "2024-02-20T10:39:30.994465Z",
     "start_time": "2024-02-20T10:39:25.533665Z"
    }
   }
  },
  {
   "cell_type": "code",
   "execution_count": 26,
   "outputs": [
    {
     "name": "stdout",
     "output_type": "stream",
     "text": [
      "INFO:tensorflow:Assets written to: bb_model/assets\n"
     ]
    }
   ],
   "source": [
    "model.save('bb_model')"
   ],
   "metadata": {
    "collapsed": false,
    "ExecuteTime": {
     "end_time": "2024-02-20T10:39:42.148800Z",
     "start_time": "2024-02-20T10:39:41.518815Z"
    }
   }
  },
  {
   "cell_type": "code",
   "execution_count": 3,
   "outputs": [
    {
     "name": "stdout",
     "output_type": "stream",
     "text": [
      "7/7 - 0s - loss: 0.6368 - accuracy: 0.6750 - 293ms/epoch - 42ms/step\n",
      "Test Loss: 0.6367844939231873\n",
      "Test Accuracy: 0.675000011920929\n"
     ]
    }
   ],
   "source": [
    "from tensorflow.keras.models import load_model\n",
    "\n",
    "model_path = '../black_box/bb_model'\n",
    "\n",
    "# Load the model\n",
    "model = load_model(model_path)\n",
    "\n",
    "# Evaluate the model on the test set\n",
    "test_loss, test_accuracy = model.evaluate(X_test, y_test, verbose=2)\n",
    "\n",
    "# Print the results\n",
    "print(f'Test Loss: {test_loss}')\n",
    "print(f'Test Accuracy: {test_accuracy}')"
   ],
   "metadata": {
    "collapsed": false,
    "ExecuteTime": {
     "end_time": "2024-04-22T08:34:19.146524Z",
     "start_time": "2024-04-22T08:34:18.536739Z"
    }
   }
  },
  {
   "cell_type": "code",
   "execution_count": 29,
   "outputs": [
    {
     "name": "stdout",
     "output_type": "stream",
     "text": [
      "19/19 [==============================] - 0s 999us/step\n",
      "7/7 [==============================] - 0s 944us/step\n",
      "7/7 [==============================] - 0s 954us/step\n"
     ]
    }
   ],
   "source": [
    "# Predict on training set\n",
    "train_predictions = model.predict(X_train)\n",
    "train_predictions_df = pd.DataFrame(train_predictions, columns=['pred_label'])\n",
    "train_predictions_df.to_csv('../data/tra_tst_val/pred_train.csv', index=False)\n",
    "\n",
    "test_predictions = model.predict(X_test)\n",
    "test_predictions_df = pd.DataFrame(test_predictions)\n",
    "test_predictions_df.to_csv('../data/tra_tst_val/pred_test.csv', index=False)\n",
    "\n",
    "val_predictions = model.predict(X_val)\n",
    "val_predictions_df = pd.DataFrame(val_predictions)\n",
    "val_predictions_df.to_csv('../data/tra_tst_val/pred_val.csv', index=False)\n"
   ],
   "metadata": {
    "collapsed": false,
    "ExecuteTime": {
     "end_time": "2024-02-20T11:01:07.121686Z",
     "start_time": "2024-02-20T11:01:06.770656Z"
    }
   }
  },
  {
   "cell_type": "code",
   "execution_count": 23,
   "outputs": [
    {
     "name": "stdout",
     "output_type": "stream",
     "text": [
      "32/32 [==============================] - 0s 1ms/step\n"
     ]
    }
   ],
   "source": [
    "from joblib import load\n",
    "\n",
    "# Load the dataset\n",
    "file_path = '../data/german.csv'\n",
    "input_df = pd.read_csv(file_path, delimiter=';')\n",
    "y = input_df.Label\n",
    "input_df.drop(columns=['Label'], inplace=True)\n",
    "\n",
    "original_input = input_df.copy()\n",
    "\n",
    "# Features to be scaled\n",
    "features_to_scale = ['Age', 'Credit', 'LoanDuration']\n",
    "\n",
    "# Load the scaler\n",
    "scaler_path = '/Users/juls/Documents/Repositories/Contesting-Black-Box-Decisions/black_box/bb_scaler.joblib'  # Update this path\n",
    "scaler = load(scaler_path)\n",
    "input_df[features_to_scale] = scaler.fit_transform(input_df[features_to_scale])\n",
    "\n",
    "# Make prediction\n",
    "prediction_result = model.predict(input_df)\n",
    "\n",
    "original_input['Label'] = y\n",
    "original_input['Prediction'] = prediction_result\n",
    "original_input['BinaryPrediction'] = original_input['Prediction'].apply(lambda x: 1 if x >=0.5 else 0)\n",
    "\n",
    "original_input.to_csv('../data/bb_results.csv', index=None)\n"
   ],
   "metadata": {
    "collapsed": false,
    "ExecuteTime": {
     "end_time": "2024-02-16T15:51:15.116222Z",
     "start_time": "2024-02-16T15:51:14.959559Z"
    }
   }
  },
  {
   "cell_type": "code",
   "execution_count": 8,
   "outputs": [
    {
     "name": "stdout",
     "output_type": "stream",
     "text": [
      "1/1 [==============================] - 0s 93ms/step\n",
      "Predicted probabilities: [[0.5912936]]\n",
      "Predicted class index: [0]\n"
     ]
    }
   ],
   "source": [
    "# Toy example for the prediction of a single case\n",
    "import numpy as np\n",
    "from joblib import load\n",
    "# columns=[\"Sex\", \"Single\", \"Unemployed\", \"Age\", \"Credit\", \"LoanDuration\", \"PurposeOfLoan\", \"InstallmentRate\", \"Housing\"]\n",
    "X_single = np.array([1,1,0,50,12000, 30, 1, 3, 2])  # Replace 'your_single_case' with your actual data\n",
    "# Convert to DataFrame\n",
    "input_df = pd.DataFrame([X_single], columns=[\"Sex\", \"Single\", \"Unemployed\", \"Age\", \"Credit\", \"LoanDuration\",\n",
    "                                               \"PurposeOfLoan\", \"InstallmentRate\", \"Housing\"])\n",
    "\n",
    "\n",
    "original_input = input_df.copy()\n",
    "\n",
    "# Features to be scaled\n",
    "features_to_scale = ['Age', 'Credit', 'LoanDuration']\n",
    "\n",
    "# Load the scaler\n",
    "scaler_path = 'bb_scaler.joblib'  # Update this path\n",
    "scaler = load(scaler_path)\n",
    "input_df[features_to_scale] = scaler.fit_transform(input_df[features_to_scale])\n",
    "\n",
    " # Make prediction\n",
    "prediction_result = model.predict(input_df)\n",
    "binary_prediction = 1 if prediction_result[0] >= 0.5 else 0\n",
    "\n",
    "# Optionally, retrieve the class with highest probability if it's a classification model\n",
    "predicted_class = np.argmax(prediction_result, axis=1)\n",
    "\n",
    "# Print the predicted results\n",
    "print(f'Predicted probabilities: {prediction_result}')\n",
    "print(f'Predicted class index: {predicted_class}')"
   ],
   "metadata": {
    "collapsed": false,
    "ExecuteTime": {
     "end_time": "2024-04-22T08:50:48.049824Z",
     "start_time": "2024-04-22T08:50:44.188813Z"
    }
   }
  },
  {
   "cell_type": "code",
   "execution_count": 52,
   "outputs": [],
   "source": [
    "original_input = X_val.copy()\n",
    "\n",
    "# Features to be scaled\n",
    "features_to_scale = ['Age', 'Credit', 'LoanDuration']\n",
    "\n",
    "# Load the scaler\n",
    "scaler_path = 'bb_scaler.joblib'  # Update this path\n",
    "scaler = load(scaler_path)\n",
    "X_val[features_to_scale] = scaler.fit_transform(X_val[features_to_scale])\n"
   ],
   "metadata": {
    "collapsed": false,
    "ExecuteTime": {
     "end_time": "2024-04-22T09:28:35.136739Z",
     "start_time": "2024-04-22T09:28:35.119238Z"
    }
   }
  },
  {
   "cell_type": "code",
   "execution_count": 53,
   "outputs": [
    {
     "name": "stdout",
     "output_type": "stream",
     "text": [
      "1/1 [==============================] - 0s 49ms/step\n",
      "1/1 [==============================] - 0s 29ms/step\n",
      "1/1 [==============================] - 0s 25ms/step\n",
      "1/1 [==============================] - 0s 27ms/step\n",
      "1/1 [==============================] - 0s 25ms/step\n",
      "1/1 [==============================] - 0s 22ms/step\n",
      "1/1 [==============================] - 0s 20ms/step\n",
      "1/1 [==============================] - 0s 22ms/step\n",
      "1/1 [==============================] - 0s 21ms/step\n",
      "1/1 [==============================] - 0s 19ms/step\n",
      "1/1 [==============================] - 0s 19ms/step\n",
      "1/1 [==============================] - 0s 21ms/step\n",
      "1/1 [==============================] - 0s 20ms/step\n",
      "1/1 [==============================] - 0s 25ms/step\n",
      "1/1 [==============================] - 0s 25ms/step\n",
      "1/1 [==============================] - 0s 23ms/step\n",
      "1/1 [==============================] - 0s 19ms/step\n",
      "1/1 [==============================] - 0s 21ms/step\n",
      "1/1 [==============================] - 0s 20ms/step\n",
      "1/1 [==============================] - 0s 19ms/step\n",
      "1/1 [==============================] - 0s 19ms/step\n",
      "1/1 [==============================] - 0s 19ms/step\n",
      "1/1 [==============================] - 0s 19ms/step\n",
      "1/1 [==============================] - 0s 19ms/step\n",
      "1/1 [==============================] - 0s 20ms/step\n",
      "1/1 [==============================] - 0s 20ms/step\n",
      "1/1 [==============================] - 0s 21ms/step\n",
      "1/1 [==============================] - 0s 19ms/step\n",
      "1/1 [==============================] - 0s 19ms/step\n",
      "1/1 [==============================] - 0s 18ms/step\n",
      "1/1 [==============================] - 0s 19ms/step\n",
      "1/1 [==============================] - 0s 20ms/step\n",
      "1/1 [==============================] - 0s 19ms/step\n",
      "1/1 [==============================] - 0s 18ms/step\n",
      "1/1 [==============================] - 0s 18ms/step\n",
      "1/1 [==============================] - 0s 20ms/step\n",
      "1/1 [==============================] - 0s 19ms/step\n",
      "1/1 [==============================] - 0s 19ms/step\n",
      "1/1 [==============================] - 0s 19ms/step\n",
      "1/1 [==============================] - 0s 18ms/step\n",
      "1/1 [==============================] - 0s 18ms/step\n",
      "1/1 [==============================] - 0s 18ms/step\n",
      "1/1 [==============================] - 0s 20ms/step\n",
      "1/1 [==============================] - 0s 19ms/step\n",
      "1/1 [==============================] - 0s 19ms/step\n",
      "1/1 [==============================] - 0s 19ms/step\n",
      "1/1 [==============================] - 0s 19ms/step\n",
      "1/1 [==============================] - 0s 19ms/step\n",
      "1/1 [==============================] - 0s 19ms/step\n",
      "1/1 [==============================] - 0s 20ms/step\n",
      "1/1 [==============================] - 0s 18ms/step\n",
      "1/1 [==============================] - 0s 20ms/step\n",
      "1/1 [==============================] - 0s 19ms/step\n",
      "1/1 [==============================] - 0s 20ms/step\n",
      "1/1 [==============================] - 0s 23ms/step\n",
      "1/1 [==============================] - 0s 22ms/step\n",
      "1/1 [==============================] - 0s 21ms/step\n",
      "1/1 [==============================] - 0s 17ms/step\n",
      "1/1 [==============================] - 0s 18ms/step\n",
      "1/1 [==============================] - 0s 18ms/step\n",
      "1/1 [==============================] - 0s 18ms/step\n",
      "1/1 [==============================] - 0s 18ms/step\n",
      "1/1 [==============================] - 0s 18ms/step\n",
      "1/1 [==============================] - 0s 18ms/step\n",
      "1/1 [==============================] - 0s 17ms/step\n",
      "1/1 [==============================] - 0s 19ms/step\n",
      "1/1 [==============================] - 0s 18ms/step\n",
      "1/1 [==============================] - 0s 18ms/step\n",
      "1/1 [==============================] - 0s 22ms/step\n",
      "1/1 [==============================] - 0s 20ms/step\n",
      "1/1 [==============================] - 0s 18ms/step\n",
      "1/1 [==============================] - 0s 19ms/step\n",
      "1/1 [==============================] - 0s 20ms/step\n",
      "1/1 [==============================] - 0s 19ms/step\n",
      "1/1 [==============================] - 0s 19ms/step\n",
      "1/1 [==============================] - 0s 19ms/step\n",
      "1/1 [==============================] - 0s 23ms/step\n",
      "1/1 [==============================] - 0s 19ms/step\n",
      "1/1 [==============================] - 0s 27ms/step\n",
      "1/1 [==============================] - 0s 18ms/step\n",
      "1/1 [==============================] - 0s 18ms/step\n",
      "1/1 [==============================] - 0s 18ms/step\n",
      "1/1 [==============================] - 0s 18ms/step\n",
      "1/1 [==============================] - 0s 18ms/step\n",
      "1/1 [==============================] - 0s 18ms/step\n",
      "1/1 [==============================] - 0s 18ms/step\n",
      "1/1 [==============================] - 0s 24ms/step\n",
      "1/1 [==============================] - 0s 19ms/step\n",
      "1/1 [==============================] - 0s 19ms/step\n",
      "1/1 [==============================] - 0s 18ms/step\n",
      "1/1 [==============================] - 0s 19ms/step\n",
      "1/1 [==============================] - 0s 19ms/step\n",
      "1/1 [==============================] - 0s 18ms/step\n",
      "1/1 [==============================] - 0s 19ms/step\n",
      "1/1 [==============================] - 0s 19ms/step\n",
      "1/1 [==============================] - 0s 19ms/step\n",
      "1/1 [==============================] - 0s 20ms/step\n",
      "1/1 [==============================] - 0s 23ms/step\n",
      "1/1 [==============================] - 0s 27ms/step\n",
      "1/1 [==============================] - 0s 20ms/step\n",
      "1/1 [==============================] - 0s 19ms/step\n",
      "1/1 [==============================] - 0s 20ms/step\n",
      "1/1 [==============================] - 0s 20ms/step\n",
      "1/1 [==============================] - 0s 19ms/step\n",
      "1/1 [==============================] - 0s 24ms/step\n",
      "1/1 [==============================] - 0s 18ms/step\n",
      "1/1 [==============================] - 0s 19ms/step\n",
      "1/1 [==============================] - 0s 18ms/step\n",
      "1/1 [==============================] - 0s 18ms/step\n",
      "1/1 [==============================] - 0s 17ms/step\n",
      "1/1 [==============================] - 0s 18ms/step\n",
      "1/1 [==============================] - 0s 18ms/step\n",
      "1/1 [==============================] - 0s 17ms/step\n",
      "1/1 [==============================] - 0s 18ms/step\n",
      "1/1 [==============================] - 0s 18ms/step\n",
      "1/1 [==============================] - 0s 20ms/step\n",
      "1/1 [==============================] - 0s 19ms/step\n",
      "1/1 [==============================] - 0s 19ms/step\n",
      "1/1 [==============================] - 0s 18ms/step\n",
      "1/1 [==============================] - 0s 18ms/step\n",
      "1/1 [==============================] - 0s 18ms/step\n",
      "1/1 [==============================] - 0s 18ms/step\n",
      "1/1 [==============================] - 0s 18ms/step\n",
      "1/1 [==============================] - 0s 18ms/step\n",
      "1/1 [==============================] - 0s 18ms/step\n",
      "1/1 [==============================] - 0s 18ms/step\n",
      "1/1 [==============================] - 0s 18ms/step\n",
      "1/1 [==============================] - 0s 17ms/step\n",
      "1/1 [==============================] - 0s 18ms/step\n",
      "1/1 [==============================] - 0s 17ms/step\n",
      "1/1 [==============================] - 0s 18ms/step\n",
      "1/1 [==============================] - 0s 18ms/step\n",
      "1/1 [==============================] - 0s 18ms/step\n",
      "1/1 [==============================] - 0s 17ms/step\n",
      "1/1 [==============================] - 0s 18ms/step\n",
      "1/1 [==============================] - 0s 18ms/step\n",
      "1/1 [==============================] - 0s 19ms/step\n",
      "1/1 [==============================] - 0s 18ms/step\n",
      "1/1 [==============================] - 0s 18ms/step\n",
      "1/1 [==============================] - 0s 19ms/step\n",
      "1/1 [==============================] - 0s 18ms/step\n",
      "1/1 [==============================] - 0s 18ms/step\n",
      "1/1 [==============================] - 0s 17ms/step\n",
      "1/1 [==============================] - 0s 18ms/step\n",
      "1/1 [==============================] - 0s 18ms/step\n",
      "1/1 [==============================] - 0s 18ms/step\n",
      "1/1 [==============================] - 0s 18ms/step\n",
      "1/1 [==============================] - 0s 17ms/step\n",
      "1/1 [==============================] - 0s 17ms/step\n",
      "1/1 [==============================] - 0s 18ms/step\n",
      "1/1 [==============================] - 0s 18ms/step\n",
      "1/1 [==============================] - 0s 19ms/step\n",
      "1/1 [==============================] - 0s 17ms/step\n",
      "1/1 [==============================] - 0s 18ms/step\n",
      "1/1 [==============================] - 0s 18ms/step\n",
      "1/1 [==============================] - 0s 18ms/step\n",
      "1/1 [==============================] - 0s 19ms/step\n",
      "1/1 [==============================] - 0s 18ms/step\n",
      "1/1 [==============================] - 0s 18ms/step\n",
      "1/1 [==============================] - 0s 18ms/step\n",
      "1/1 [==============================] - 0s 18ms/step\n",
      "1/1 [==============================] - 0s 18ms/step\n",
      "1/1 [==============================] - 0s 18ms/step\n",
      "1/1 [==============================] - 0s 18ms/step\n",
      "1/1 [==============================] - 0s 18ms/step\n",
      "1/1 [==============================] - 0s 18ms/step\n",
      "1/1 [==============================] - 0s 18ms/step\n",
      "1/1 [==============================] - 0s 18ms/step\n",
      "1/1 [==============================] - 0s 18ms/step\n",
      "1/1 [==============================] - 0s 18ms/step\n",
      "1/1 [==============================] - 0s 18ms/step\n",
      "1/1 [==============================] - 0s 18ms/step\n",
      "1/1 [==============================] - 0s 18ms/step\n",
      "1/1 [==============================] - 0s 18ms/step\n",
      "1/1 [==============================] - 0s 18ms/step\n",
      "1/1 [==============================] - 0s 18ms/step\n",
      "1/1 [==============================] - 0s 17ms/step\n",
      "1/1 [==============================] - 0s 18ms/step\n",
      "1/1 [==============================] - 0s 18ms/step\n",
      "1/1 [==============================] - 0s 18ms/step\n",
      "1/1 [==============================] - 0s 18ms/step\n",
      "1/1 [==============================] - 0s 18ms/step\n",
      "1/1 [==============================] - 0s 19ms/step\n",
      "1/1 [==============================] - 0s 17ms/step\n",
      "1/1 [==============================] - 0s 18ms/step\n",
      "1/1 [==============================] - 0s 18ms/step\n",
      "1/1 [==============================] - 0s 17ms/step\n",
      "1/1 [==============================] - 0s 18ms/step\n",
      "1/1 [==============================] - 0s 18ms/step\n",
      "1/1 [==============================] - 0s 18ms/step\n",
      "1/1 [==============================] - 0s 18ms/step\n",
      "1/1 [==============================] - 0s 18ms/step\n",
      "1/1 [==============================] - 0s 17ms/step\n",
      "1/1 [==============================] - 0s 19ms/step\n",
      "1/1 [==============================] - 0s 17ms/step\n",
      "1/1 [==============================] - 0s 18ms/step\n",
      "1/1 [==============================] - 0s 17ms/step\n",
      "1/1 [==============================] - 0s 19ms/step\n",
      "1/1 [==============================] - 0s 18ms/step\n",
      "1/1 [==============================] - 0s 18ms/step\n",
      "     Index   Predictions  Predicted Class\n",
      "0        0  [0.45084292]                0\n",
      "1        1  [0.97850955]                0\n",
      "2        2  [0.65167385]                0\n",
      "3        3   [0.5669112]                0\n",
      "4        4   [0.6598755]                0\n",
      "..     ...           ...              ...\n",
      "195    195  [0.76888883]                0\n",
      "196    196   [0.7240479]                0\n",
      "197    197   [0.9282527]                0\n",
      "198    198   [0.9121483]                0\n",
      "199    199  [0.78390825]                0\n",
      "\n",
      "[200 rows x 3 columns]\n"
     ]
    }
   ],
   "source": [
    "# Iterate over the rows of the DataFrame and make predictions\n",
    "results = []\n",
    "for index, row in X_val.iterrows():\n",
    "    # Reshape the row to fit model input, assuming input needs to be 1D array for a single sample\n",
    "    #input_df = pd.DataFrame(np.array(row), columns=[\"Sex\", \"Single\", \"Unemployed\", \"Age\", \"Credit\", \"LoanDuration\",\"PurposeOfLoan\", \"InstallmentRate\", \"Housing\"])\n",
    "\n",
    "    #print(input_df)\n",
    "    sample = row.values.reshape(1, -1)\n",
    "\n",
    "    # Predict the output for the single case\n",
    "    prediction = model.predict(sample)\n",
    "\n",
    "    # Optionally, retrieve the class with highest probability if it's a classification model\n",
    "    predicted_class = np.argmax(prediction, axis=1)\n",
    "\n",
    "    # Store predictions or any additional required analysis\n",
    "    results.append((index, prediction.flatten(), predicted_class[0]))\n",
    "\n",
    "# Convert results to a DataFrame for better visualization and analysis\n",
    "results_df = pd.DataFrame(results, columns=['Index', 'Predictions', 'Predicted Class'])\n",
    "print(results_df)"
   ],
   "metadata": {
    "collapsed": false,
    "ExecuteTime": {
     "end_time": "2024-04-22T09:29:27.234127Z",
     "start_time": "2024-04-22T09:29:17.758339Z"
    }
   }
  },
  {
   "cell_type": "code",
   "execution_count": 54,
   "outputs": [
    {
     "data": {
      "text/plain": "     Index    Predictions  Predicted Class\n0        0   [0.45084292]                0\n9        9    [0.4997557]                0\n13      13    [0.4506695]                0\n20      20   [0.33093703]                0\n30      30   [0.17586467]                0\n39      39   [0.49448648]                0\n44      44   [0.33672407]                0\n54      54   [0.24492508]                0\n68      68   [0.03953727]                0\n70      70   [0.48512974]                0\n78      78    [0.3183782]                0\n84      84   [0.42871335]                0\n92      92   [0.26417685]                0\n93      93    [0.4083813]                0\n104    104   [0.46351793]                0\n106    106    [0.4250881]                0\n107    107   [0.46513346]                0\n112    112  [0.069229044]                0\n113    113    [0.4294914]                0\n115    115   [0.16410932]                0\n122    122   [0.32544923]                0\n137    137   [0.29570252]                0\n139    139    [0.2805378]                0\n143    143   [0.05065111]                0\n145    145   [0.48272672]                0\n146    146   [0.31271333]                0\n147    147   [0.38786313]                0\n159    159     [0.403733]                0\n164    164    [0.3519243]                0\n171    171   [0.46987355]                0\n180    180   [0.21726817]                0\n189    189   [0.47777048]                0",
      "text/html": "<div>\n<style scoped>\n    .dataframe tbody tr th:only-of-type {\n        vertical-align: middle;\n    }\n\n    .dataframe tbody tr th {\n        vertical-align: top;\n    }\n\n    .dataframe thead th {\n        text-align: right;\n    }\n</style>\n<table border=\"1\" class=\"dataframe\">\n  <thead>\n    <tr style=\"text-align: right;\">\n      <th></th>\n      <th>Index</th>\n      <th>Predictions</th>\n      <th>Predicted Class</th>\n    </tr>\n  </thead>\n  <tbody>\n    <tr>\n      <th>0</th>\n      <td>0</td>\n      <td>[0.45084292]</td>\n      <td>0</td>\n    </tr>\n    <tr>\n      <th>9</th>\n      <td>9</td>\n      <td>[0.4997557]</td>\n      <td>0</td>\n    </tr>\n    <tr>\n      <th>13</th>\n      <td>13</td>\n      <td>[0.4506695]</td>\n      <td>0</td>\n    </tr>\n    <tr>\n      <th>20</th>\n      <td>20</td>\n      <td>[0.33093703]</td>\n      <td>0</td>\n    </tr>\n    <tr>\n      <th>30</th>\n      <td>30</td>\n      <td>[0.17586467]</td>\n      <td>0</td>\n    </tr>\n    <tr>\n      <th>39</th>\n      <td>39</td>\n      <td>[0.49448648]</td>\n      <td>0</td>\n    </tr>\n    <tr>\n      <th>44</th>\n      <td>44</td>\n      <td>[0.33672407]</td>\n      <td>0</td>\n    </tr>\n    <tr>\n      <th>54</th>\n      <td>54</td>\n      <td>[0.24492508]</td>\n      <td>0</td>\n    </tr>\n    <tr>\n      <th>68</th>\n      <td>68</td>\n      <td>[0.03953727]</td>\n      <td>0</td>\n    </tr>\n    <tr>\n      <th>70</th>\n      <td>70</td>\n      <td>[0.48512974]</td>\n      <td>0</td>\n    </tr>\n    <tr>\n      <th>78</th>\n      <td>78</td>\n      <td>[0.3183782]</td>\n      <td>0</td>\n    </tr>\n    <tr>\n      <th>84</th>\n      <td>84</td>\n      <td>[0.42871335]</td>\n      <td>0</td>\n    </tr>\n    <tr>\n      <th>92</th>\n      <td>92</td>\n      <td>[0.26417685]</td>\n      <td>0</td>\n    </tr>\n    <tr>\n      <th>93</th>\n      <td>93</td>\n      <td>[0.4083813]</td>\n      <td>0</td>\n    </tr>\n    <tr>\n      <th>104</th>\n      <td>104</td>\n      <td>[0.46351793]</td>\n      <td>0</td>\n    </tr>\n    <tr>\n      <th>106</th>\n      <td>106</td>\n      <td>[0.4250881]</td>\n      <td>0</td>\n    </tr>\n    <tr>\n      <th>107</th>\n      <td>107</td>\n      <td>[0.46513346]</td>\n      <td>0</td>\n    </tr>\n    <tr>\n      <th>112</th>\n      <td>112</td>\n      <td>[0.069229044]</td>\n      <td>0</td>\n    </tr>\n    <tr>\n      <th>113</th>\n      <td>113</td>\n      <td>[0.4294914]</td>\n      <td>0</td>\n    </tr>\n    <tr>\n      <th>115</th>\n      <td>115</td>\n      <td>[0.16410932]</td>\n      <td>0</td>\n    </tr>\n    <tr>\n      <th>122</th>\n      <td>122</td>\n      <td>[0.32544923]</td>\n      <td>0</td>\n    </tr>\n    <tr>\n      <th>137</th>\n      <td>137</td>\n      <td>[0.29570252]</td>\n      <td>0</td>\n    </tr>\n    <tr>\n      <th>139</th>\n      <td>139</td>\n      <td>[0.2805378]</td>\n      <td>0</td>\n    </tr>\n    <tr>\n      <th>143</th>\n      <td>143</td>\n      <td>[0.05065111]</td>\n      <td>0</td>\n    </tr>\n    <tr>\n      <th>145</th>\n      <td>145</td>\n      <td>[0.48272672]</td>\n      <td>0</td>\n    </tr>\n    <tr>\n      <th>146</th>\n      <td>146</td>\n      <td>[0.31271333]</td>\n      <td>0</td>\n    </tr>\n    <tr>\n      <th>147</th>\n      <td>147</td>\n      <td>[0.38786313]</td>\n      <td>0</td>\n    </tr>\n    <tr>\n      <th>159</th>\n      <td>159</td>\n      <td>[0.403733]</td>\n      <td>0</td>\n    </tr>\n    <tr>\n      <th>164</th>\n      <td>164</td>\n      <td>[0.3519243]</td>\n      <td>0</td>\n    </tr>\n    <tr>\n      <th>171</th>\n      <td>171</td>\n      <td>[0.46987355]</td>\n      <td>0</td>\n    </tr>\n    <tr>\n      <th>180</th>\n      <td>180</td>\n      <td>[0.21726817]</td>\n      <td>0</td>\n    </tr>\n    <tr>\n      <th>189</th>\n      <td>189</td>\n      <td>[0.47777048]</td>\n      <td>0</td>\n    </tr>\n  </tbody>\n</table>\n</div>"
     },
     "execution_count": 54,
     "metadata": {},
     "output_type": "execute_result"
    }
   ],
   "source": [
    "results_df[results_df['Predictions'] < 0.5 ]"
   ],
   "metadata": {
    "collapsed": false,
    "ExecuteTime": {
     "end_time": "2024-04-22T09:29:32.276839Z",
     "start_time": "2024-04-22T09:29:32.268638Z"
    }
   }
  },
  {
   "cell_type": "markdown",
   "source": [],
   "metadata": {
    "collapsed": false
   }
  }
 ],
 "metadata": {
  "kernelspec": {
   "display_name": "Python 3",
   "language": "python",
   "name": "python3"
  },
  "language_info": {
   "codemirror_mode": {
    "name": "ipython",
    "version": 2
   },
   "file_extension": ".py",
   "mimetype": "text/x-python",
   "name": "python",
   "nbconvert_exporter": "python",
   "pygments_lexer": "ipython2",
   "version": "2.7.6"
  }
 },
 "nbformat": 4,
 "nbformat_minor": 0
}
