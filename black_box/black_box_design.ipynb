{
 "cells": [
  {
   "cell_type": "code",
   "execution_count": 17,
   "metadata": {
    "collapsed": true,
    "ExecuteTime": {
     "end_time": "2024-02-16T14:59:39.099396Z",
     "start_time": "2024-02-16T14:59:39.074261Z"
    }
   },
   "outputs": [
    {
     "data": {
      "text/plain": "   Sex  Single  Unemployed  Age  Credit  LoanDuration  PurposeOfLoan  \\\n0  1.0       1           0   67    1169             6              3   \n1  0.0       0           0   22    5951            48              3   \n2  1.0       1           0   49    2096            12              2   \n3  1.0       1           0   45    7882            42              4   \n4  1.0       1           0   53    4870            24              6   \n\n   InstallmentRate  Housing  Label  \n0                4      1.0      1  \n1                2      1.0      0  \n2                2      1.0      1  \n3                2      3.0      1  \n4                3      3.0      0  ",
      "text/html": "<div>\n<style scoped>\n    .dataframe tbody tr th:only-of-type {\n        vertical-align: middle;\n    }\n\n    .dataframe tbody tr th {\n        vertical-align: top;\n    }\n\n    .dataframe thead th {\n        text-align: right;\n    }\n</style>\n<table border=\"1\" class=\"dataframe\">\n  <thead>\n    <tr style=\"text-align: right;\">\n      <th></th>\n      <th>Sex</th>\n      <th>Single</th>\n      <th>Unemployed</th>\n      <th>Age</th>\n      <th>Credit</th>\n      <th>LoanDuration</th>\n      <th>PurposeOfLoan</th>\n      <th>InstallmentRate</th>\n      <th>Housing</th>\n      <th>Label</th>\n    </tr>\n  </thead>\n  <tbody>\n    <tr>\n      <th>0</th>\n      <td>1.0</td>\n      <td>1</td>\n      <td>0</td>\n      <td>67</td>\n      <td>1169</td>\n      <td>6</td>\n      <td>3</td>\n      <td>4</td>\n      <td>1.0</td>\n      <td>1</td>\n    </tr>\n    <tr>\n      <th>1</th>\n      <td>0.0</td>\n      <td>0</td>\n      <td>0</td>\n      <td>22</td>\n      <td>5951</td>\n      <td>48</td>\n      <td>3</td>\n      <td>2</td>\n      <td>1.0</td>\n      <td>0</td>\n    </tr>\n    <tr>\n      <th>2</th>\n      <td>1.0</td>\n      <td>1</td>\n      <td>0</td>\n      <td>49</td>\n      <td>2096</td>\n      <td>12</td>\n      <td>2</td>\n      <td>2</td>\n      <td>1.0</td>\n      <td>1</td>\n    </tr>\n    <tr>\n      <th>3</th>\n      <td>1.0</td>\n      <td>1</td>\n      <td>0</td>\n      <td>45</td>\n      <td>7882</td>\n      <td>42</td>\n      <td>4</td>\n      <td>2</td>\n      <td>3.0</td>\n      <td>1</td>\n    </tr>\n    <tr>\n      <th>4</th>\n      <td>1.0</td>\n      <td>1</td>\n      <td>0</td>\n      <td>53</td>\n      <td>4870</td>\n      <td>24</td>\n      <td>6</td>\n      <td>3</td>\n      <td>3.0</td>\n      <td>0</td>\n    </tr>\n  </tbody>\n</table>\n</div>"
     },
     "execution_count": 17,
     "metadata": {},
     "output_type": "execute_result"
    }
   ],
   "source": [
    "# Let's first load the data to see its structure and understand the problem we need to solve.\n",
    "import pandas as pd\n",
    "\n",
    "# Load the dataset\n",
    "file_path = '../data/german.csv'\n",
    "data = pd.read_csv(file_path, delimiter=';')\n",
    "\n",
    "# Display the first few rows of the dataframe to understand its structure and the type of data it contains\n",
    "data.head()"
   ]
  },
  {
   "cell_type": "code",
   "execution_count": 18,
   "outputs": [
    {
     "data": {
      "text/plain": "   Sex  Single  Unemployed       Age    Credit  LoanDuration  PurposeOfLoan  \\\n0  1.0       1           0  2.766456 -0.745131     -1.236478              3   \n1  0.0       0           0 -1.191404  0.949817      2.248194              3   \n2  1.0       1           0  1.183312 -0.416562     -0.738668              2   \n3  1.0       1           0  0.831502  1.634247      1.750384              4   \n4  1.0       1           0  1.535122  0.566664      0.256953              6   \n\n   InstallmentRate  Housing  Label  \n0                4      1.0      1  \n1                2      1.0      0  \n2                2      1.0      1  \n3                2      3.0      1  \n4                3      3.0      0  ",
      "text/html": "<div>\n<style scoped>\n    .dataframe tbody tr th:only-of-type {\n        vertical-align: middle;\n    }\n\n    .dataframe tbody tr th {\n        vertical-align: top;\n    }\n\n    .dataframe thead th {\n        text-align: right;\n    }\n</style>\n<table border=\"1\" class=\"dataframe\">\n  <thead>\n    <tr style=\"text-align: right;\">\n      <th></th>\n      <th>Sex</th>\n      <th>Single</th>\n      <th>Unemployed</th>\n      <th>Age</th>\n      <th>Credit</th>\n      <th>LoanDuration</th>\n      <th>PurposeOfLoan</th>\n      <th>InstallmentRate</th>\n      <th>Housing</th>\n      <th>Label</th>\n    </tr>\n  </thead>\n  <tbody>\n    <tr>\n      <th>0</th>\n      <td>1.0</td>\n      <td>1</td>\n      <td>0</td>\n      <td>2.766456</td>\n      <td>-0.745131</td>\n      <td>-1.236478</td>\n      <td>3</td>\n      <td>4</td>\n      <td>1.0</td>\n      <td>1</td>\n    </tr>\n    <tr>\n      <th>1</th>\n      <td>0.0</td>\n      <td>0</td>\n      <td>0</td>\n      <td>-1.191404</td>\n      <td>0.949817</td>\n      <td>2.248194</td>\n      <td>3</td>\n      <td>2</td>\n      <td>1.0</td>\n      <td>0</td>\n    </tr>\n    <tr>\n      <th>2</th>\n      <td>1.0</td>\n      <td>1</td>\n      <td>0</td>\n      <td>1.183312</td>\n      <td>-0.416562</td>\n      <td>-0.738668</td>\n      <td>2</td>\n      <td>2</td>\n      <td>1.0</td>\n      <td>1</td>\n    </tr>\n    <tr>\n      <th>3</th>\n      <td>1.0</td>\n      <td>1</td>\n      <td>0</td>\n      <td>0.831502</td>\n      <td>1.634247</td>\n      <td>1.750384</td>\n      <td>4</td>\n      <td>2</td>\n      <td>3.0</td>\n      <td>1</td>\n    </tr>\n    <tr>\n      <th>4</th>\n      <td>1.0</td>\n      <td>1</td>\n      <td>0</td>\n      <td>1.535122</td>\n      <td>0.566664</td>\n      <td>0.256953</td>\n      <td>6</td>\n      <td>3</td>\n      <td>3.0</td>\n      <td>0</td>\n    </tr>\n  </tbody>\n</table>\n</div>"
     },
     "execution_count": 18,
     "metadata": {},
     "output_type": "execute_result"
    }
   ],
   "source": [
    "# Normalizing numerical features (Age, Credit, LoanDuration) using StandardScaler\n",
    "from sklearn.preprocessing import StandardScaler\n",
    "import joblib\n",
    "\n",
    "# Features to be scaled\n",
    "features_to_scale = ['Age', 'Credit', 'LoanDuration']\n",
    "\n",
    "scaler = StandardScaler()\n",
    "data[features_to_scale] = scaler.fit_transform(data[features_to_scale])\n",
    "\n",
    "joblib.dump(scaler, 'bb_scaler.joblib')\n",
    "\n",
    "data.head()"
   ],
   "metadata": {
    "collapsed": false,
    "ExecuteTime": {
     "end_time": "2024-02-16T15:00:12.819716Z",
     "start_time": "2024-02-16T15:00:12.795129Z"
    }
   }
  },
  {
   "cell_type": "code",
   "execution_count": 5,
   "outputs": [
    {
     "data": {
      "text/plain": "((600, 9), (200, 9), (200, 9))"
     },
     "execution_count": 5,
     "metadata": {},
     "output_type": "execute_result"
    }
   ],
   "source": [
    "#\n",
    "from sklearn.model_selection import train_test_split\n",
    "\n",
    "# Features and label\n",
    "X = data.drop('Label', axis=1)\n",
    "y = data['Label']\n",
    "\n",
    "# Splitting the data into training+validation (80%) and test (20%)\n",
    "X_train_val, X_test, y_train_val, y_test = train_test_split(X, y, test_size=0.2, random_state=42)\n",
    "\n",
    "# Splitting the training+validation into training (60% of total) and validation (20% of total)\n",
    "X_train, X_val, y_train, y_val = train_test_split(X_train_val, y_train_val, test_size=0.25, random_state=42) # 0.25 x 0.8 = 0.2\n",
    "\n",
    "# Displaying the size of each subset to verify correct splitting\n",
    "X_train.shape, X_val.shape, X_test.shape\n"
   ],
   "metadata": {
    "collapsed": false,
    "ExecuteTime": {
     "end_time": "2024-02-16T14:10:50.494317Z",
     "start_time": "2024-02-16T14:10:50.073826Z"
    }
   }
  },
  {
   "cell_type": "code",
   "execution_count": 6,
   "outputs": [],
   "source": [
    "# Save training test and validations sets\n",
    "X_train.to_csv('../data/tra_tst_val/X_train.csv')\n",
    "y_train.to_csv('../data/tra_tst_val/y_train.csv')\n",
    "X_test.to_csv('../data/tra_tst_val/X_test.csv')\n",
    "y_test.to_csv('../data/tra_tst_val/y_test.csv')\n",
    "X_val.to_csv('../data/tra_tst_val/X_val.csv')\n",
    "y_val.to_csv('../data/tra_tst_val/y_val.csv')"
   ],
   "metadata": {
    "collapsed": false,
    "ExecuteTime": {
     "end_time": "2024-02-16T14:13:57.991243Z",
     "start_time": "2024-02-16T14:13:57.936204Z"
    }
   }
  },
  {
   "cell_type": "code",
   "execution_count": 7,
   "outputs": [
    {
     "name": "stderr",
     "output_type": "stream",
     "text": [
      "2024-02-16 15:16:42.642224: I tensorflow/core/platform/cpu_feature_guard.cc:193] This TensorFlow binary is optimized with oneAPI Deep Neural Network Library (oneDNN) to use the following CPU instructions in performance-critical operations:  AVX2 FMA\n",
      "To enable them in other operations, rebuild TensorFlow with the appropriate compiler flags.\n",
      "2024-02-16 15:16:47.524246: I tensorflow/core/platform/cpu_feature_guard.cc:193] This TensorFlow binary is optimized with oneAPI Deep Neural Network Library (oneDNN) to use the following CPU instructions in performance-critical operations:  AVX2 FMA\n",
      "To enable them in other operations, rebuild TensorFlow with the appropriate compiler flags.\n"
     ]
    },
    {
     "data": {
      "text/plain": "0.7250000238418579"
     },
     "execution_count": 7,
     "metadata": {},
     "output_type": "execute_result"
    }
   ],
   "source": [
    "from tensorflow.keras.models import Sequential\n",
    "from tensorflow.keras.layers import Dense\n",
    "from tensorflow.keras.optimizers import Adam\n",
    "import numpy as np\n",
    "\n",
    "# Defining a simple neural network function to test different hyperparameters\n",
    "def build_model(input_dim, layers, activation, optimizer_lr):\n",
    "    model = Sequential()\n",
    "    model.add(Dense(layers[0], input_dim=input_dim, activation=activation))\n",
    "    for units in layers[1:]:\n",
    "        model.add(Dense(units, activation=activation))\n",
    "    model.add(Dense(1, activation='sigmoid')) # Binary classification\n",
    "    model.compile(optimizer=Adam(learning_rate=optimizer_lr), loss='binary_crossentropy', metrics=['accuracy'])\n",
    "    return model\n",
    "\n",
    "# Initial hyperparameters\n",
    "input_dim = X_train.shape[1] # Number of features\n",
    "layers = [64, 32] # Two layers with 64 and 32 neurons\n",
    "activation = 'relu'\n",
    "optimizer_lr = 0.001\n",
    "\n",
    "# Building the initial model\n",
    "model = build_model(input_dim, layers, activation, optimizer_lr)\n",
    "\n",
    "# Training the model\n",
    "history = model.fit(X_train, y_train, validation_data=(X_val, y_val), epochs=50, batch_size=10, verbose=0)\n",
    "\n",
    "# Evaluating the model on the validation set\n",
    "val_accuracy = np.max(history.history['val_accuracy'])\n",
    "\n",
    "val_accuracy\n",
    "\n"
   ],
   "metadata": {
    "collapsed": false,
    "ExecuteTime": {
     "end_time": "2024-02-16T14:16:52.064131Z",
     "start_time": "2024-02-16T14:16:42.632151Z"
    }
   }
  },
  {
   "cell_type": "code",
   "execution_count": 10,
   "outputs": [
    {
     "name": "stdout",
     "output_type": "stream",
     "text": [
      "INFO:tensorflow:Assets written to: bb_model/assets\n"
     ]
    }
   ],
   "source": [
    "model.save('bb_model')"
   ],
   "metadata": {
    "collapsed": false,
    "ExecuteTime": {
     "end_time": "2024-02-16T14:23:13.262342Z",
     "start_time": "2024-02-16T14:23:12.515339Z"
    }
   }
  },
  {
   "cell_type": "code",
   "execution_count": 11,
   "outputs": [
    {
     "name": "stdout",
     "output_type": "stream",
     "text": [
      "7/7 - 0s - loss: 0.6979 - accuracy: 0.6950 - 150ms/epoch - 21ms/step\n",
      "Test Loss: 0.6978618502616882\n",
      "Test Accuracy: 0.6949999928474426\n"
     ]
    }
   ],
   "source": [
    "from tensorflow.keras.models import load_model\n",
    "\n",
    "model_path = '../black_box/bb_model'\n",
    "\n",
    "# Load the model\n",
    "model = load_model(model_path)\n",
    "\n",
    "# Evaluate the model on the test set\n",
    "test_loss, test_accuracy = model.evaluate(X_test, y_test, verbose=2)\n",
    "\n",
    "# Print the results\n",
    "print(f'Test Loss: {test_loss}')\n",
    "print(f'Test Accuracy: {test_accuracy}')"
   ],
   "metadata": {
    "collapsed": false,
    "ExecuteTime": {
     "end_time": "2024-02-16T14:29:06.021029Z",
     "start_time": "2024-02-16T14:29:05.242368Z"
    }
   }
  },
  {
   "cell_type": "code",
   "execution_count": 15,
   "outputs": [
    {
     "name": "stdout",
     "output_type": "stream",
     "text": [
      "19/19 [==============================] - 0s 790us/step\n",
      "19/19 [==============================] - 0s 771us/step\n",
      "7/7 [==============================] - 0s 951us/step\n"
     ]
    }
   ],
   "source": [
    "# Predict on training set\n",
    "train_predictions = model.predict(X_train)\n",
    "train_predictions_df = pd.DataFrame(train_predictions, columns=['pred_label'])\n",
    "train_predictions_df.to_csv('../data/tra_tst_val/pred_train.csv')\n",
    "\n",
    "test_predictions = model.predict(X_train)\n",
    "test_predictions_df = pd.DataFrame(test_predictions)\n",
    "test_predictions_df.to_csv('../data/tra_tst_val/pred_test.csv')\n",
    "\n",
    "val_predictions = model.predict(X_val)\n",
    "val_predictions_df = pd.DataFrame(val_predictions)\n",
    "val_predictions_df.to_csv('../data/tra_tst_val/pred_val.csv')\n"
   ],
   "metadata": {
    "collapsed": false,
    "ExecuteTime": {
     "end_time": "2024-02-16T14:38:34.178546Z",
     "start_time": "2024-02-16T14:38:33.943141Z"
    }
   }
  },
  {
   "cell_type": "code",
   "execution_count": 23,
   "outputs": [
    {
     "name": "stdout",
     "output_type": "stream",
     "text": [
      "32/32 [==============================] - 0s 1ms/step\n"
     ]
    }
   ],
   "source": [
    "from joblib import load\n",
    "\n",
    "# Load the dataset\n",
    "file_path = '../data/german.csv'\n",
    "input_df = pd.read_csv(file_path, delimiter=';')\n",
    "y = input_df.Label\n",
    "input_df.drop(columns=['Label'], inplace=True)\n",
    "\n",
    "original_input = input_df.copy()\n",
    "\n",
    "# Features to be scaled\n",
    "features_to_scale = ['Age', 'Credit', 'LoanDuration']\n",
    "\n",
    "# Load the scaler\n",
    "scaler_path = '/Users/juls/Documents/Repositories/Contesting-Black-Box-Decisions/black_box/bb_scaler.joblib'  # Update this path\n",
    "scaler = load(scaler_path)\n",
    "input_df[features_to_scale] = scaler.fit_transform(input_df[features_to_scale])\n",
    "\n",
    "# Make prediction\n",
    "prediction_result = model.predict(input_df)\n",
    "\n",
    "original_input['Label'] = y\n",
    "original_input['Prediction'] = prediction_result\n",
    "original_input['BinaryPrediction'] = original_input['Prediction'].apply(lambda x: 1 if x >=0.5 else 0)\n",
    "\n",
    "original_input.to_csv('../data/bb_results.csv', index=None)\n"
   ],
   "metadata": {
    "collapsed": false,
    "ExecuteTime": {
     "end_time": "2024-02-16T15:51:15.116222Z",
     "start_time": "2024-02-16T15:51:14.959559Z"
    }
   }
  },
  {
   "cell_type": "markdown",
   "source": [],
   "metadata": {
    "collapsed": false
   }
  }
 ],
 "metadata": {
  "kernelspec": {
   "display_name": "Python 3",
   "language": "python",
   "name": "python3"
  },
  "language_info": {
   "codemirror_mode": {
    "name": "ipython",
    "version": 2
   },
   "file_extension": ".py",
   "mimetype": "text/x-python",
   "name": "python",
   "nbconvert_exporter": "python",
   "pygments_lexer": "ipython2",
   "version": "2.7.6"
  }
 },
 "nbformat": 4,
 "nbformat_minor": 0
}
