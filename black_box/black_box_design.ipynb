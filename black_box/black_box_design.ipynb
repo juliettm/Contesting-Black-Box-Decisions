{
 "cells": [
  {
   "cell_type": "code",
   "execution_count": 24,
   "metadata": {
    "collapsed": true,
    "ExecuteTime": {
     "end_time": "2024-02-20T10:37:27.953063Z",
     "start_time": "2024-02-20T10:37:27.810086Z"
    }
   },
   "outputs": [],
   "source": [
    "import pandas as pd\n",
    "\n",
    "# Read the training test and validation sets from data folder\n",
    "X_train = pd.read_csv('../data/tra_tst_val/X_train_normalised.csv')\n",
    "X_test = pd.read_csv('../data/tra_tst_val/X_test_normalised.csv')\n",
    "X_val = pd.read_csv('../data/tra_tst_val/X_val_normalised.csv')\n",
    "\n",
    "y_train = pd.read_csv('../data/tra_tst_val/y_train_normalised.csv')\n",
    "y_test = pd.read_csv('../data/tra_tst_val/y_test_normalised.csv')\n",
    "y_val = pd.read_csv('../data/tra_tst_val/y_val_normalised.csv')"
   ]
  },
  {
   "cell_type": "code",
   "execution_count": 25,
   "outputs": [
    {
     "data": {
      "text/plain": "0.7699999809265137"
     },
     "execution_count": 25,
     "metadata": {},
     "output_type": "execute_result"
    }
   ],
   "source": [
    "from tensorflow.keras.models import Sequential\n",
    "from tensorflow.keras.layers import Dense\n",
    "from tensorflow.keras.optimizers import Adam\n",
    "import numpy as np\n",
    "\n",
    "# Defining a simple neural network function to test different hyperparameters\n",
    "def build_model(input_dim, layers, activation, optimizer_lr):\n",
    "    model = Sequential()\n",
    "    model.add(Dense(layers[0], input_dim=input_dim, activation=activation))\n",
    "    for units in layers[1:]:\n",
    "        model.add(Dense(units, activation=activation))\n",
    "    model.add(Dense(1, activation='sigmoid')) # Binary classification\n",
    "    model.compile(optimizer=Adam(learning_rate=optimizer_lr), loss='binary_crossentropy', metrics=['accuracy'])\n",
    "    return model\n",
    "\n",
    "# Initial hyperparameters\n",
    "input_dim = X_train.shape[1] # Number of features\n",
    "layers = [64, 32] # Two layers with 64 and 32 neurons\n",
    "activation = 'relu'\n",
    "optimizer_lr = 0.001\n",
    "\n",
    "# Building the initial model\n",
    "model = build_model(input_dim, layers, activation, optimizer_lr)\n",
    "\n",
    "# Training the model\n",
    "history = model.fit(X_train, y_train, validation_data=(X_val, y_val), epochs=50, batch_size=10, verbose=0)\n",
    "\n",
    "# Evaluating the model on the validation set\n",
    "val_accuracy = np.max(history.history['val_accuracy'])\n",
    "\n",
    "val_accuracy\n",
    "\n"
   ],
   "metadata": {
    "collapsed": false,
    "ExecuteTime": {
     "end_time": "2024-02-20T10:39:30.994465Z",
     "start_time": "2024-02-20T10:39:25.533665Z"
    }
   }
  },
  {
   "cell_type": "code",
   "execution_count": 26,
   "outputs": [
    {
     "name": "stdout",
     "output_type": "stream",
     "text": [
      "INFO:tensorflow:Assets written to: bb_model/assets\n"
     ]
    }
   ],
   "source": [
    "model.save('bb_model')"
   ],
   "metadata": {
    "collapsed": false,
    "ExecuteTime": {
     "end_time": "2024-02-20T10:39:42.148800Z",
     "start_time": "2024-02-20T10:39:41.518815Z"
    }
   }
  },
  {
   "cell_type": "code",
   "execution_count": 27,
   "outputs": [
    {
     "name": "stdout",
     "output_type": "stream",
     "text": [
      "7/7 - 0s - loss: 0.6368 - accuracy: 0.6750 - 304ms/epoch - 43ms/step\n",
      "Test Loss: 0.6367844939231873\n",
      "Test Accuracy: 0.675000011920929\n"
     ]
    }
   ],
   "source": [
    "from tensorflow.keras.models import load_model\n",
    "\n",
    "model_path = '../black_box/bb_model'\n",
    "\n",
    "# Load the model\n",
    "model = load_model(model_path)\n",
    "\n",
    "# Evaluate the model on the test set\n",
    "test_loss, test_accuracy = model.evaluate(X_test, y_test, verbose=2)\n",
    "\n",
    "# Print the results\n",
    "print(f'Test Loss: {test_loss}')\n",
    "print(f'Test Accuracy: {test_accuracy}')"
   ],
   "metadata": {
    "collapsed": false,
    "ExecuteTime": {
     "end_time": "2024-02-20T10:39:58.407447Z",
     "start_time": "2024-02-20T10:39:57.787644Z"
    }
   }
  },
  {
   "cell_type": "code",
   "execution_count": 29,
   "outputs": [
    {
     "name": "stdout",
     "output_type": "stream",
     "text": [
      "19/19 [==============================] - 0s 999us/step\n",
      "7/7 [==============================] - 0s 944us/step\n",
      "7/7 [==============================] - 0s 954us/step\n"
     ]
    }
   ],
   "source": [
    "# Predict on training set\n",
    "train_predictions = model.predict(X_train)\n",
    "train_predictions_df = pd.DataFrame(train_predictions, columns=['pred_label'])\n",
    "train_predictions_df.to_csv('../data/tra_tst_val/pred_train.csv', index=False)\n",
    "\n",
    "test_predictions = model.predict(X_test)\n",
    "test_predictions_df = pd.DataFrame(test_predictions)\n",
    "test_predictions_df.to_csv('../data/tra_tst_val/pred_test.csv', index=False)\n",
    "\n",
    "val_predictions = model.predict(X_val)\n",
    "val_predictions_df = pd.DataFrame(val_predictions)\n",
    "val_predictions_df.to_csv('../data/tra_tst_val/pred_val.csv', index=False)\n"
   ],
   "metadata": {
    "collapsed": false,
    "ExecuteTime": {
     "end_time": "2024-02-20T11:01:07.121686Z",
     "start_time": "2024-02-20T11:01:06.770656Z"
    }
   }
  },
  {
   "cell_type": "code",
   "execution_count": 23,
   "outputs": [
    {
     "name": "stdout",
     "output_type": "stream",
     "text": [
      "32/32 [==============================] - 0s 1ms/step\n"
     ]
    }
   ],
   "source": [
    "from joblib import load\n",
    "\n",
    "# Load the dataset\n",
    "file_path = '../data/german.csv'\n",
    "input_df = pd.read_csv(file_path, delimiter=';')\n",
    "y = input_df.Label\n",
    "input_df.drop(columns=['Label'], inplace=True)\n",
    "\n",
    "original_input = input_df.copy()\n",
    "\n",
    "# Features to be scaled\n",
    "features_to_scale = ['Age', 'Credit', 'LoanDuration']\n",
    "\n",
    "# Load the scaler\n",
    "scaler_path = '/Users/juls/Documents/Repositories/Contesting-Black-Box-Decisions/black_box/bb_scaler.joblib'  # Update this path\n",
    "scaler = load(scaler_path)\n",
    "input_df[features_to_scale] = scaler.fit_transform(input_df[features_to_scale])\n",
    "\n",
    "# Make prediction\n",
    "prediction_result = model.predict(input_df)\n",
    "\n",
    "original_input['Label'] = y\n",
    "original_input['Prediction'] = prediction_result\n",
    "original_input['BinaryPrediction'] = original_input['Prediction'].apply(lambda x: 1 if x >=0.5 else 0)\n",
    "\n",
    "original_input.to_csv('../data/bb_results.csv', index=None)\n"
   ],
   "metadata": {
    "collapsed": false,
    "ExecuteTime": {
     "end_time": "2024-02-16T15:51:15.116222Z",
     "start_time": "2024-02-16T15:51:14.959559Z"
    }
   }
  },
  {
   "cell_type": "markdown",
   "source": [],
   "metadata": {
    "collapsed": false
   }
  }
 ],
 "metadata": {
  "kernelspec": {
   "display_name": "Python 3",
   "language": "python",
   "name": "python3"
  },
  "language_info": {
   "codemirror_mode": {
    "name": "ipython",
    "version": 2
   },
   "file_extension": ".py",
   "mimetype": "text/x-python",
   "name": "python",
   "nbconvert_exporter": "python",
   "pygments_lexer": "ipython2",
   "version": "2.7.6"
  }
 },
 "nbformat": 4,
 "nbformat_minor": 0
}
