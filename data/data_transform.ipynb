{
 "cells": [
  {
   "cell_type": "code",
   "execution_count": 1,
   "metadata": {
    "collapsed": true,
    "ExecuteTime": {
     "end_time": "2024-02-20T10:07:05.833576Z",
     "start_time": "2024-02-20T10:07:05.154764Z"
    }
   },
   "outputs": [
    {
     "data": {
      "text/plain": "   Sex  Single  Unemployed  Age  Credit  LoanDuration  PurposeOfLoan  \\\n0  1.0       1           0   67    1169             6              3   \n1  0.0       0           0   22    5951            48              3   \n2  1.0       1           0   49    2096            12              2   \n3  1.0       1           0   45    7882            42              4   \n4  1.0       1           0   53    4870            24              6   \n\n   InstallmentRate  Housing  Label  \n0                4      1.0      1  \n1                2      1.0      0  \n2                2      1.0      1  \n3                2      3.0      1  \n4                3      3.0      0  ",
      "text/html": "<div>\n<style scoped>\n    .dataframe tbody tr th:only-of-type {\n        vertical-align: middle;\n    }\n\n    .dataframe tbody tr th {\n        vertical-align: top;\n    }\n\n    .dataframe thead th {\n        text-align: right;\n    }\n</style>\n<table border=\"1\" class=\"dataframe\">\n  <thead>\n    <tr style=\"text-align: right;\">\n      <th></th>\n      <th>Sex</th>\n      <th>Single</th>\n      <th>Unemployed</th>\n      <th>Age</th>\n      <th>Credit</th>\n      <th>LoanDuration</th>\n      <th>PurposeOfLoan</th>\n      <th>InstallmentRate</th>\n      <th>Housing</th>\n      <th>Label</th>\n    </tr>\n  </thead>\n  <tbody>\n    <tr>\n      <th>0</th>\n      <td>1.0</td>\n      <td>1</td>\n      <td>0</td>\n      <td>67</td>\n      <td>1169</td>\n      <td>6</td>\n      <td>3</td>\n      <td>4</td>\n      <td>1.0</td>\n      <td>1</td>\n    </tr>\n    <tr>\n      <th>1</th>\n      <td>0.0</td>\n      <td>0</td>\n      <td>0</td>\n      <td>22</td>\n      <td>5951</td>\n      <td>48</td>\n      <td>3</td>\n      <td>2</td>\n      <td>1.0</td>\n      <td>0</td>\n    </tr>\n    <tr>\n      <th>2</th>\n      <td>1.0</td>\n      <td>1</td>\n      <td>0</td>\n      <td>49</td>\n      <td>2096</td>\n      <td>12</td>\n      <td>2</td>\n      <td>2</td>\n      <td>1.0</td>\n      <td>1</td>\n    </tr>\n    <tr>\n      <th>3</th>\n      <td>1.0</td>\n      <td>1</td>\n      <td>0</td>\n      <td>45</td>\n      <td>7882</td>\n      <td>42</td>\n      <td>4</td>\n      <td>2</td>\n      <td>3.0</td>\n      <td>1</td>\n    </tr>\n    <tr>\n      <th>4</th>\n      <td>1.0</td>\n      <td>1</td>\n      <td>0</td>\n      <td>53</td>\n      <td>4870</td>\n      <td>24</td>\n      <td>6</td>\n      <td>3</td>\n      <td>3.0</td>\n      <td>0</td>\n    </tr>\n  </tbody>\n</table>\n</div>"
     },
     "execution_count": 1,
     "metadata": {},
     "output_type": "execute_result"
    }
   ],
   "source": [
    "# Let's first load the data to see its structure and understand the problem we need to solve.\n",
    "import pandas as pd\n",
    "\n",
    "# Load the dataset\n",
    "file_path = '../data/german.csv'\n",
    "data = pd.read_csv(file_path, delimiter=';')\n",
    "\n",
    "# Display the first few rows of the dataframe to understand its structure and the type of data it contains\n",
    "data.head()"
   ]
  },
  {
   "cell_type": "code",
   "execution_count": 2,
   "outputs": [
    {
     "name": "stdout",
     "output_type": "stream",
     "text": [
      "<class 'pandas.core.frame.DataFrame'>\n",
      "RangeIndex: 1000 entries, 0 to 999\n",
      "Data columns (total 10 columns):\n",
      " #   Column           Non-Null Count  Dtype  \n",
      "---  ------           --------------  -----  \n",
      " 0   Sex              1000 non-null   float64\n",
      " 1   Single           1000 non-null   int64  \n",
      " 2   Unemployed       1000 non-null   int64  \n",
      " 3   Age              1000 non-null   int64  \n",
      " 4   Credit           1000 non-null   int64  \n",
      " 5   LoanDuration     1000 non-null   int64  \n",
      " 6   PurposeOfLoan    1000 non-null   int64  \n",
      " 7   InstallmentRate  1000 non-null   int64  \n",
      " 8   Housing          1000 non-null   float64\n",
      " 9   Label            1000 non-null   int64  \n",
      "dtypes: float64(2), int64(8)\n",
      "memory usage: 78.2 KB\n"
     ]
    }
   ],
   "source": [
    "data.info()"
   ],
   "metadata": {
    "collapsed": false,
    "ExecuteTime": {
     "end_time": "2024-02-20T10:07:23.011782Z",
     "start_time": "2024-02-20T10:07:23.005888Z"
    }
   }
  },
  {
   "cell_type": "code",
   "execution_count": 3,
   "outputs": [
    {
     "data": {
      "text/plain": "               Sex      Single   Unemployed          Age        Credit  \\\ncount  1000.000000  1000.00000  1000.000000  1000.000000   1000.000000   \nmean      0.690000     0.54800     0.062000    35.546000   3271.258000   \nstd       0.462725     0.49794     0.241276    11.375469   2822.736876   \nmin       0.000000     0.00000     0.000000    19.000000    250.000000   \n25%       0.000000     0.00000     0.000000    27.000000   1365.500000   \n50%       1.000000     1.00000     0.000000    33.000000   2319.500000   \n75%       1.000000     1.00000     0.000000    42.000000   3972.250000   \nmax       1.000000     1.00000     1.000000    75.000000  18424.000000   \n\n       LoanDuration  PurposeOfLoan  InstallmentRate      Housing        Label  \ncount   1000.000000    1000.000000      1000.000000  1000.000000  1000.000000  \nmean      20.903000       4.596000         2.973000     1.395000     0.700000  \nstd       12.058814       2.518954         1.118715     0.674856     0.458487  \nmin        4.000000       1.000000         1.000000     1.000000     0.000000  \n25%       12.000000       3.000000         2.000000     1.000000     0.000000  \n50%       18.000000       4.000000         3.000000     1.000000     1.000000  \n75%       24.000000       6.000000         4.000000     2.000000     1.000000  \nmax       72.000000      10.000000         4.000000     3.000000     1.000000  ",
      "text/html": "<div>\n<style scoped>\n    .dataframe tbody tr th:only-of-type {\n        vertical-align: middle;\n    }\n\n    .dataframe tbody tr th {\n        vertical-align: top;\n    }\n\n    .dataframe thead th {\n        text-align: right;\n    }\n</style>\n<table border=\"1\" class=\"dataframe\">\n  <thead>\n    <tr style=\"text-align: right;\">\n      <th></th>\n      <th>Sex</th>\n      <th>Single</th>\n      <th>Unemployed</th>\n      <th>Age</th>\n      <th>Credit</th>\n      <th>LoanDuration</th>\n      <th>PurposeOfLoan</th>\n      <th>InstallmentRate</th>\n      <th>Housing</th>\n      <th>Label</th>\n    </tr>\n  </thead>\n  <tbody>\n    <tr>\n      <th>count</th>\n      <td>1000.000000</td>\n      <td>1000.00000</td>\n      <td>1000.000000</td>\n      <td>1000.000000</td>\n      <td>1000.000000</td>\n      <td>1000.000000</td>\n      <td>1000.000000</td>\n      <td>1000.000000</td>\n      <td>1000.000000</td>\n      <td>1000.000000</td>\n    </tr>\n    <tr>\n      <th>mean</th>\n      <td>0.690000</td>\n      <td>0.54800</td>\n      <td>0.062000</td>\n      <td>35.546000</td>\n      <td>3271.258000</td>\n      <td>20.903000</td>\n      <td>4.596000</td>\n      <td>2.973000</td>\n      <td>1.395000</td>\n      <td>0.700000</td>\n    </tr>\n    <tr>\n      <th>std</th>\n      <td>0.462725</td>\n      <td>0.49794</td>\n      <td>0.241276</td>\n      <td>11.375469</td>\n      <td>2822.736876</td>\n      <td>12.058814</td>\n      <td>2.518954</td>\n      <td>1.118715</td>\n      <td>0.674856</td>\n      <td>0.458487</td>\n    </tr>\n    <tr>\n      <th>min</th>\n      <td>0.000000</td>\n      <td>0.00000</td>\n      <td>0.000000</td>\n      <td>19.000000</td>\n      <td>250.000000</td>\n      <td>4.000000</td>\n      <td>1.000000</td>\n      <td>1.000000</td>\n      <td>1.000000</td>\n      <td>0.000000</td>\n    </tr>\n    <tr>\n      <th>25%</th>\n      <td>0.000000</td>\n      <td>0.00000</td>\n      <td>0.000000</td>\n      <td>27.000000</td>\n      <td>1365.500000</td>\n      <td>12.000000</td>\n      <td>3.000000</td>\n      <td>2.000000</td>\n      <td>1.000000</td>\n      <td>0.000000</td>\n    </tr>\n    <tr>\n      <th>50%</th>\n      <td>1.000000</td>\n      <td>1.00000</td>\n      <td>0.000000</td>\n      <td>33.000000</td>\n      <td>2319.500000</td>\n      <td>18.000000</td>\n      <td>4.000000</td>\n      <td>3.000000</td>\n      <td>1.000000</td>\n      <td>1.000000</td>\n    </tr>\n    <tr>\n      <th>75%</th>\n      <td>1.000000</td>\n      <td>1.00000</td>\n      <td>0.000000</td>\n      <td>42.000000</td>\n      <td>3972.250000</td>\n      <td>24.000000</td>\n      <td>6.000000</td>\n      <td>4.000000</td>\n      <td>2.000000</td>\n      <td>1.000000</td>\n    </tr>\n    <tr>\n      <th>max</th>\n      <td>1.000000</td>\n      <td>1.00000</td>\n      <td>1.000000</td>\n      <td>75.000000</td>\n      <td>18424.000000</td>\n      <td>72.000000</td>\n      <td>10.000000</td>\n      <td>4.000000</td>\n      <td>3.000000</td>\n      <td>1.000000</td>\n    </tr>\n  </tbody>\n</table>\n</div>"
     },
     "execution_count": 3,
     "metadata": {},
     "output_type": "execute_result"
    }
   ],
   "source": [
    "data.describe()"
   ],
   "metadata": {
    "collapsed": false,
    "ExecuteTime": {
     "end_time": "2024-02-20T10:07:32.055454Z",
     "start_time": "2024-02-20T10:07:32.016422Z"
    }
   }
  },
  {
   "cell_type": "code",
   "execution_count": 4,
   "outputs": [
    {
     "data": {
      "text/plain": "Index(['Sex', 'Single', 'Unemployed', 'Age', 'Credit', 'LoanDuration',\n       'PurposeOfLoan', 'InstallmentRate', 'Housing', 'Label'],\n      dtype='object')"
     },
     "execution_count": 4,
     "metadata": {},
     "output_type": "execute_result"
    }
   ],
   "source": [
    "# The dataset contains 1000 rows and 21 columns. The columns are as follows:\n",
    "data.columns"
   ],
   "metadata": {
    "collapsed": false,
    "ExecuteTime": {
     "end_time": "2024-02-20T10:08:17.418291Z",
     "start_time": "2024-02-20T10:08:17.413665Z"
    }
   }
  },
  {
   "cell_type": "code",
   "execution_count": 5,
   "outputs": [],
   "source": [
    "import numpy as np\n",
    "\n",
    "def train_test_val_split(num_instances, train_ratio=0.6, test_ratio=0.2, val_ratio=0.2, seed=42):\n",
    "    \"\"\"\n",
    "    Splits the indexes of rows into training, testing, and validation sets.\n",
    "\n",
    "    Parameters:\n",
    "        num_instances (int): Total number of instances in the dataset.\n",
    "        train_ratio (float): Ratio of instances for the training set (default: 0.6).\n",
    "        test_ratio (float): Ratio of instances for the testing set (default: 0.2).\n",
    "        val_ratio (float): Ratio of instances for the validation set (default: 0.2).\n",
    "        seed (int): Random seed for reproducibility (default: 42).\n",
    "\n",
    "    Returns:\n",
    "        train_idxs (numpy.array): Indexes of rows for the training set.\n",
    "        test_idxs (numpy.array): Indexes of rows for the testing set.\n",
    "        val_idxs (numpy.array): Indexes of rows for the validation set.\n",
    "    \"\"\"\n",
    "    assert train_ratio + test_ratio + val_ratio == 1, \"Ratios should sum up to 1\"\n",
    "    np.random.seed(seed)\n",
    "\n",
    "    # Generate random indexes\n",
    "    all_idxs = np.arange(num_instances)\n",
    "    np.random.shuffle(all_idxs)\n",
    "\n",
    "    # Calculate split points\n",
    "    train_end = int(num_instances * train_ratio)\n",
    "    test_end = train_end + int(num_instances * test_ratio)\n",
    "\n",
    "    # Split indexes\n",
    "    train_idxs = all_idxs[:train_end]\n",
    "    test_idxs = all_idxs[train_end:test_end]\n",
    "    val_idxs = all_idxs[test_end:]\n",
    "\n",
    "    return train_idxs, test_idxs, val_idxs\n"
   ],
   "metadata": {
    "collapsed": false,
    "ExecuteTime": {
     "end_time": "2024-02-20T10:17:36.610148Z",
     "start_time": "2024-02-20T10:17:36.605781Z"
    }
   }
  },
  {
   "cell_type": "code",
   "execution_count": 6,
   "outputs": [],
   "source": [
    "# Split the dataset into training, testing, and validation sets\n",
    "num_instances = len(data)\n",
    "train_idxs, test_idxs, val_idxs = train_test_val_split(num_instances)"
   ],
   "metadata": {
    "collapsed": false,
    "ExecuteTime": {
     "end_time": "2024-02-20T10:18:41.302821Z",
     "start_time": "2024-02-20T10:18:41.297235Z"
    }
   }
  },
  {
   "cell_type": "code",
   "execution_count": 7,
   "outputs": [
    {
     "data": {
      "text/plain": "((600, 9), (200, 9), (200, 9))"
     },
     "execution_count": 7,
     "metadata": {},
     "output_type": "execute_result"
    }
   ],
   "source": [
    "# Let's now split the dataset into features and labels, and then into training, testing, and validation sets.\n",
    "# Split the dataset into features and labels\n",
    "X = data.drop('Label', axis=1)\n",
    "y = data['Label']\n",
    "\n",
    "# Split the features and labels into training, testing, and validation sets\n",
    "X_train, X_test, X_val = X.iloc[train_idxs], X.iloc[test_idxs], X.iloc[val_idxs]\n",
    "y_train, y_test, y_val = y.iloc[train_idxs], y.iloc[test_idxs], y.iloc[val_idxs]\n",
    "\n",
    "# Display the shapes of the training, testing, and validation sets\n",
    "X_train.shape, X_test.shape, X_val.shape"
   ],
   "metadata": {
    "collapsed": false,
    "ExecuteTime": {
     "end_time": "2024-02-20T10:20:02.490923Z",
     "start_time": "2024-02-20T10:20:02.468411Z"
    }
   }
  },
  {
   "cell_type": "code",
   "execution_count": 8,
   "outputs": [],
   "source": [
    "# Save the training, testing, and validation sets to CSV files\n",
    "X_train.to_csv('tra_tst_val/X_train.csv', index=False)\n",
    "X_test.to_csv('tra_tst_val/X_test.csv', index=False)\n",
    "X_val.to_csv('tra_tst_val/X_val.csv', index=False)\n",
    "y_train.to_csv('tra_tst_val/y_train.csv', index=False)\n",
    "y_test.to_csv('tra_tst_val/y_test.csv', index=False)\n",
    "y_val.to_csv('tra_tst_val/y_val.csv', index=False)"
   ],
   "metadata": {
    "collapsed": false,
    "ExecuteTime": {
     "end_time": "2024-02-20T10:21:55.385806Z",
     "start_time": "2024-02-20T10:21:55.360819Z"
    }
   }
  },
  {
   "cell_type": "code",
   "execution_count": 9,
   "outputs": [
    {
     "data": {
      "text/plain": "   Sex  Single  Unemployed       Age    Credit  LoanDuration  PurposeOfLoan  \\\n0  1.0       1           0  2.766456 -0.745131     -1.236478              3   \n1  0.0       0           0 -1.191404  0.949817      2.248194              3   \n2  1.0       1           0  1.183312 -0.416562     -0.738668              2   \n3  1.0       1           0  0.831502  1.634247      1.750384              4   \n4  1.0       1           0  1.535122  0.566664      0.256953              6   \n\n   InstallmentRate  Housing  Label  \n0                4      1.0      1  \n1                2      1.0      0  \n2                2      1.0      1  \n3                2      3.0      1  \n4                3      3.0      0  ",
      "text/html": "<div>\n<style scoped>\n    .dataframe tbody tr th:only-of-type {\n        vertical-align: middle;\n    }\n\n    .dataframe tbody tr th {\n        vertical-align: top;\n    }\n\n    .dataframe thead th {\n        text-align: right;\n    }\n</style>\n<table border=\"1\" class=\"dataframe\">\n  <thead>\n    <tr style=\"text-align: right;\">\n      <th></th>\n      <th>Sex</th>\n      <th>Single</th>\n      <th>Unemployed</th>\n      <th>Age</th>\n      <th>Credit</th>\n      <th>LoanDuration</th>\n      <th>PurposeOfLoan</th>\n      <th>InstallmentRate</th>\n      <th>Housing</th>\n      <th>Label</th>\n    </tr>\n  </thead>\n  <tbody>\n    <tr>\n      <th>0</th>\n      <td>1.0</td>\n      <td>1</td>\n      <td>0</td>\n      <td>2.766456</td>\n      <td>-0.745131</td>\n      <td>-1.236478</td>\n      <td>3</td>\n      <td>4</td>\n      <td>1.0</td>\n      <td>1</td>\n    </tr>\n    <tr>\n      <th>1</th>\n      <td>0.0</td>\n      <td>0</td>\n      <td>0</td>\n      <td>-1.191404</td>\n      <td>0.949817</td>\n      <td>2.248194</td>\n      <td>3</td>\n      <td>2</td>\n      <td>1.0</td>\n      <td>0</td>\n    </tr>\n    <tr>\n      <th>2</th>\n      <td>1.0</td>\n      <td>1</td>\n      <td>0</td>\n      <td>1.183312</td>\n      <td>-0.416562</td>\n      <td>-0.738668</td>\n      <td>2</td>\n      <td>2</td>\n      <td>1.0</td>\n      <td>1</td>\n    </tr>\n    <tr>\n      <th>3</th>\n      <td>1.0</td>\n      <td>1</td>\n      <td>0</td>\n      <td>0.831502</td>\n      <td>1.634247</td>\n      <td>1.750384</td>\n      <td>4</td>\n      <td>2</td>\n      <td>3.0</td>\n      <td>1</td>\n    </tr>\n    <tr>\n      <th>4</th>\n      <td>1.0</td>\n      <td>1</td>\n      <td>0</td>\n      <td>1.535122</td>\n      <td>0.566664</td>\n      <td>0.256953</td>\n      <td>6</td>\n      <td>3</td>\n      <td>3.0</td>\n      <td>0</td>\n    </tr>\n  </tbody>\n</table>\n</div>"
     },
     "execution_count": 9,
     "metadata": {},
     "output_type": "execute_result"
    }
   ],
   "source": [
    "# Normalizing numerical features (Age, Credit, LoanDuration) using StandardScaler\n",
    "from sklearn.preprocessing import StandardScaler\n",
    "import joblib\n",
    "\n",
    "# Features to be scaled\n",
    "features_to_scale = ['Age', 'Credit', 'LoanDuration']\n",
    "\n",
    "scaler = StandardScaler()\n",
    "data[features_to_scale] = scaler.fit_transform(data[features_to_scale])\n",
    "\n",
    "joblib.dump(scaler, '../black_box/bb_scaler.joblib')\n",
    "\n",
    "data.head()"
   ],
   "metadata": {
    "collapsed": false,
    "ExecuteTime": {
     "end_time": "2024-02-20T10:23:28.910051Z",
     "start_time": "2024-02-20T10:23:28.131711Z"
    }
   }
  },
  {
   "cell_type": "code",
   "execution_count": 10,
   "outputs": [
    {
     "data": {
      "text/plain": "((600, 9), (200, 9), (200, 9))"
     },
     "execution_count": 10,
     "metadata": {},
     "output_type": "execute_result"
    }
   ],
   "source": [
    "# Split the preprocessed dataset into features and labels\n",
    "X = data.drop('Label', axis=1)\n",
    "y = data['Label']\n",
    "\n",
    "# Split the features and labels into training, testing, and validation sets\n",
    "X_train, X_test, X_val = X.iloc[train_idxs], X.iloc[test_idxs], X.iloc[val_idxs]\n",
    "y_train, y_test, y_val = y.iloc[train_idxs], y.iloc[test_idxs], y.iloc[val_idxs]\n",
    "\n",
    "# Display the shapes of the training, testing, and validation sets\n",
    "X_train.shape, X_test.shape, X_val.shape"
   ],
   "metadata": {
    "collapsed": false,
    "ExecuteTime": {
     "end_time": "2024-02-20T10:24:30.146976Z",
     "start_time": "2024-02-20T10:24:29.718931Z"
    }
   }
  },
  {
   "cell_type": "code",
   "execution_count": 12,
   "outputs": [],
   "source": [
    "# Save the preprocessed training, testing, and validation sets to CSV files\n",
    "X_train.to_csv('tra_tst_val/X_train_normalised.csv', index=False)\n",
    "X_test.to_csv('tra_tst_val/X_test_normalised.csv', index=False)\n",
    "X_val.to_csv('tra_tst_val/X_val_normalised.csv', index=False)\n",
    "y_train.to_csv('tra_tst_val/y_train_normalised.csv', index=False)\n",
    "y_test.to_csv('tra_tst_val/y_test_normalised.csv', index=False)\n",
    "y_val.to_csv('tra_tst_val/y_val_normalised.csv', index=False)"
   ],
   "metadata": {
    "collapsed": false,
    "ExecuteTime": {
     "end_time": "2024-02-20T10:25:59.721119Z",
     "start_time": "2024-02-20T10:25:59.704141Z"
    }
   }
  },
  {
   "cell_type": "code",
   "execution_count": 13,
   "outputs": [
    {
     "data": {
      "text/plain": "Sex                  2\nSingle               2\nUnemployed           2\nAge                 53\nCredit             921\nLoanDuration        33\nPurposeOfLoan       10\nInstallmentRate      4\nHousing              3\nLabel                2\ndtype: int64"
     },
     "execution_count": 13,
     "metadata": {},
     "output_type": "execute_result"
    }
   ],
   "source": [
    "# number of unique values in each column\n",
    "data.nunique()"
   ],
   "metadata": {
    "collapsed": false,
    "ExecuteTime": {
     "end_time": "2024-02-20T11:34:43.223870Z",
     "start_time": "2024-02-20T11:34:43.191964Z"
    }
   }
  },
  {
   "cell_type": "code",
   "execution_count": 14,
   "outputs": [
    {
     "data": {
      "text/plain": "Label\n1    700\n0    300\nName: count, dtype: int64"
     },
     "execution_count": 14,
     "metadata": {},
     "output_type": "execute_result"
    }
   ],
   "source": [
    "# number of rows in each value for the Label column\n",
    "data['Label'].value_counts()"
   ],
   "metadata": {
    "collapsed": false,
    "ExecuteTime": {
     "end_time": "2024-02-20T11:35:15.946874Z",
     "start_time": "2024-02-20T11:35:15.940217Z"
    }
   }
  },
  {
   "cell_type": "code",
   "execution_count": 15,
   "outputs": [
    {
     "data": {
      "text/plain": "(Label\n 1    415\n 0    185\n Name: count, dtype: int64,\n Label\n 1    145\n 0     55\n Name: count, dtype: int64,\n Label\n 1    140\n 0     60\n Name: count, dtype: int64)"
     },
     "execution_count": 15,
     "metadata": {},
     "output_type": "execute_result"
    }
   ],
   "source": [
    "y_train.value_counts(), y_test.value_counts(), y_val.value_counts()"
   ],
   "metadata": {
    "collapsed": false,
    "ExecuteTime": {
     "end_time": "2024-02-20T11:35:42.063666Z",
     "start_time": "2024-02-20T11:35:42.046099Z"
    }
   }
  },
  {
   "cell_type": "code",
   "execution_count": null,
   "outputs": [],
   "source": [],
   "metadata": {
    "collapsed": false
   }
  }
 ],
 "metadata": {
  "kernelspec": {
   "display_name": "Python 3",
   "language": "python",
   "name": "python3"
  },
  "language_info": {
   "codemirror_mode": {
    "name": "ipython",
    "version": 2
   },
   "file_extension": ".py",
   "mimetype": "text/x-python",
   "name": "python",
   "nbconvert_exporter": "python",
   "pygments_lexer": "ipython2",
   "version": "2.7.6"
  }
 },
 "nbformat": 4,
 "nbformat_minor": 0
}
